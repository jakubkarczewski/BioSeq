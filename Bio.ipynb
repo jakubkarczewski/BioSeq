{
 "cells": [
  {
   "cell_type": "markdown",
   "metadata": {},
   "source": [
    "Todo:\n",
    "1. przygotowac dane\n",
    "2. zrealizowac podstawowe dopasowanie sekwencji\n",
    "3.  podział zadań"
   ]
  },
  {
   "cell_type": "markdown",
   "metadata": {},
   "source": [
    "Zestawienia optymalne 2 sekwencji. Typ A. Wymagane wyznaczenie odległości edycyjnej\n",
    "i podobieństwa całych sekwencji nukleotydowych, najlepszego zestawienia lokalnego, oraz\n",
    "globalnego - wszystko w modelach bez funkcji kary za długość przerwy. Odczyt danych z\n",
    "plików (2 sekwencje i macierz podobieństwa lub dystansu 5×5 między nukleotydami),\n",
    "wyjście: optymalne zestawienie i jego ewaluacja. Na życzenie użytkownika można podać\n",
    "2\n",
    "sekwencje kodujące RNA, które są przez program automatycznie translowane zgodnie z\n",
    "kodem genetycznym na aminokwasowe, składane jako aminokwasowe (a więc przy użyciu\n",
    "macierzy 21×21), a wynik znów przedstawiamy jako dopasowanie w alfabecie RNA (a więc\n",
    "złożenie de facto kodonów sekwencji wejściowych).\n",
    "Liniowe dopasowanie dwóch sekwencji, Liniowe dopasowanie dwóch sekwencji II "
   ]
  },
  {
   "cell_type": "code",
   "execution_count": 53,
   "metadata": {},
   "outputs": [],
   "source": [
    "import os\n",
    "\n",
    "files = [f for f in os.listdir('.') if os.path.isfile(f)]\n",
    "\n",
    "seq = {}\n",
    "\n",
    "for filename in files:\n",
    "    if filename.endswith('.txt'):\n",
    "        with open(filename) as f:\n",
    "            seq[filename[:-4]] = f.read().replace('\\n', '')"
   ]
  },
  {
   "cell_type": "code",
   "execution_count": 54,
   "metadata": {},
   "outputs": [
    {
     "data": {
      "text/plain": [
       "{'seqA': 'ACAAGATGCCATTGTCCCCCGGCCTCCTGCTGCTGCTGCTCTCCGGGGCCACGGCCACCGCTGCCCTGCCCCTGGAGGGTGGCCCCACCGGCCGAGACAGCGAGCATATGCAGGAAGCGGCAGGAATAAGGAAAAGCAGCCTCCTGACTTTCCTCGCTTGGTGGTTTGAGTGGACCTCCCAGGCCAGTGCCGGGCCCCTCATAGGAGAGGAAGCTCGGGAGGTGGCCAGGCGGCAGGAAGGCGCACCCCCCCAGCAATCCGCGCGCCGGGACAGAATGCCCTGCAGGAACTTCTTCTGGAAGACCTTCTCCTCCTGCAAATAAAACCTCACCCATGAATGCTCACGCAAGTTTAATTACAGACCTGAA',\n",
       " 'seqB': 'AACCTGCGGAAGGATCATTACCGAGTGCGGGTCCTTTGGGCCCAACCTCCCATCCGTGTCTATTGTACCCTGTTGCTTCGGCGGGCCCGCCGCTTGTCGGCCGCCGGGGGGGCGCCTCTGCCCCCCGGGCCCGTGCCCGCCGGAGACCCCAACACGAACACTGTCTGAAAGCGTGCAGTCTGAGTTGATTGAATGCAATCAGTTAAAACTTTCAACAATGGATCTCTTGGTTCCGGC'}"
      ]
     },
     "execution_count": 54,
     "metadata": {},
     "output_type": "execute_result"
    }
   ],
   "source": [
    "seq"
   ]
  },
  {
   "cell_type": "code",
   "execution_count": 55,
   "metadata": {},
   "outputs": [],
   "source": [
    "from Bio import Align\n",
    "\n",
    "OUR_TRANSLATIONS = {}\n",
    "\n",
    "def dna_2_aminoacid(dictionary, sequence):\n",
    "    \n",
    "    # assert len(sequence) % 3 == 0, \"Wrong len.\"\n",
    "    if len(sequence) % 3 != 0:\n",
    "        sequence = sequence[:-(len(sequence) % 3)]\n",
    "            \n",
    "    translated = []\n",
    "    for i in range(0, len(sequence), 3):\n",
    "        trio = sequence[i:i+3]\n",
    "        aminoacid = dictionary[trio]\n",
    "        translated.append(aminoacid)\n",
    "        OUR_TRANSLATIONS[aminoacid] = trio\n",
    "        \n",
    "    return ''.join(translated)\n",
    "\n",
    "\n",
    "def rna_2_dna(sequence):\n",
    "    return sequence.replace('U', 'T')\n",
    "    \n",
    "def get_alignment(seq, mode=None):\n",
    "    assert len(seq.keys()) == 2, \"Only 2 sequences in dict accepted.\"\n",
    "    \n",
    "    aligner = Align.PairwiseAligner()\n",
    "    if mode in ('local', 'global'):\n",
    "        aligner.mode = mode\n",
    "    aligner.open_gap_score = -1\n",
    "    aligner.extend_gap_score = 0\n",
    "        \n",
    "    alignments = aligner.align(**seq)\n",
    "    score = aligner.score(**seq)\n",
    "    \n",
    "#     for alignment in alignments:\n",
    "#         print(alignment)\n",
    "        \n",
    "    return score"
   ]
  },
  {
   "cell_type": "code",
   "execution_count": 56,
   "metadata": {},
   "outputs": [],
   "source": [
    "seq_amino = {}\n",
    "for key in seq.keys():\n",
    "    seq_amino[key] = dna_2_aminoacid(TRANSLATION, seq[key])"
   ]
  },
  {
   "cell_type": "code",
   "execution_count": 57,
   "metadata": {},
   "outputs": [
    {
     "data": {
      "text/plain": [
       "2.496458275777808e+151"
      ]
     },
     "execution_count": 57,
     "metadata": {},
     "output_type": "execute_result"
    }
   ],
   "source": [
    "get_alignment(seq_amino)"
   ]
  },
  {
   "cell_type": "code",
   "execution_count": 81,
   "metadata": {},
   "outputs": [
    {
     "name": "stdout",
     "output_type": "stream",
     "text": [
      "GAACT\n",
      "||--|\n",
      "GA--T\n",
      "\n",
      "GAACT\n",
      "|-|-|\n",
      "G-A-T\n",
      "\n"
     ]
    },
    {
     "data": {
      "text/plain": [
       "3.0"
      ]
     },
     "execution_count": 81,
     "metadata": {},
     "output_type": "execute_result"
    }
   ],
   "source": [
    "get_alignment(seq, mode='local')"
   ]
  },
  {
   "cell_type": "code",
   "execution_count": 82,
   "metadata": {},
   "outputs": [
    {
     "name": "stdout",
     "output_type": "stream",
     "text": [
      "GAACT\n",
      "||--|\n",
      "GA--T\n",
      "\n",
      "GAACT\n",
      "|-|-|\n",
      "G-A-T\n",
      "\n"
     ]
    },
    {
     "data": {
      "text/plain": [
       "3.0"
      ]
     },
     "execution_count": 82,
     "metadata": {},
     "output_type": "execute_result"
    }
   ],
   "source": [
    "get_alignment(seq, mode='global')"
   ]
  },
  {
   "cell_type": "code",
   "execution_count": 10,
   "metadata": {},
   "outputs": [],
   "source": [
    "TRANSLATION = {\n",
    "    'ATT': 'I',\n",
    "    'ATC': 'I',\n",
    "    'ATA': 'I',\n",
    "    'CTT': 'L',\n",
    "    'CTC': 'L',\n",
    "    'CTA': 'L',\n",
    "    'CTG': 'L',\n",
    "    'TTA': 'L',\n",
    "    'TTG': 'L',\n",
    "    'GTT': 'V',\n",
    "    'GTC': 'V',\n",
    "    'GTA': 'V',\n",
    "    'GTG': 'V',\n",
    "    'TTT': 'F',\n",
    "    'TTC': 'F',\n",
    "    'ATG': 'M',\n",
    "    'TGT': 'C',\n",
    "    'TGC': 'C',\n",
    "    'GCT': 'A',\n",
    "    'GCC': 'A',\n",
    "    'GCA': 'A',\n",
    "    'GCG': 'A',\n",
    "    'GGT': 'G',\n",
    "    'GGC': 'G',\n",
    "    'GGA': 'G',\n",
    "    'GGG': 'G',\n",
    "    'CCT': 'P',\n",
    "    'CCC': 'P',\n",
    "    'CCA': 'P',\n",
    "    'CCG': 'P',\n",
    "    'ACT': 'T',\n",
    "    'ACC': 'T',\n",
    "    'ACA': 'T',\n",
    "    'ACG': 'T',\n",
    "    'TCT': 'S',\n",
    "    'TCC': 'S',\n",
    "    'TCA': 'S',\n",
    "    'TCG': 'S',\n",
    "    'AGT': 'S',\n",
    "    'AGC': 'S',\n",
    "    'TAT': 'Y',\n",
    "    'TAC': 'Y',\n",
    "    'TGG': 'W',\n",
    "    'CAA': 'Q',\n",
    "    'CAG': 'Q',\n",
    "    'AAT': 'N',\n",
    "    'AAC': 'N',\n",
    "    'CAT': 'H',\n",
    "    'CAC': 'H',\n",
    "    'GAA': 'E',\n",
    "    'GAG': 'E',\n",
    "    'GAT': 'D',\n",
    "    'GAC': 'D',\n",
    "    'AAA': 'K',\n",
    "    'AAG': 'K',\n",
    "    'CGT': 'R',\n",
    "    'CGC': 'R',\n",
    "    'CGA': 'R',\n",
    "    'CGG': 'R',\n",
    "    'AGA': 'R',\n",
    "    'AGG': 'R',\n",
    "    'TAA': '_',\n",
    "    'TAG': '_',\n",
    "    'TGA': '_',    \n",
    "}"
   ]
  },
  {
   "cell_type": "code",
   "execution_count": 11,
   "metadata": {},
   "outputs": [],
   "source": [
    "import pickle"
   ]
  },
  {
   "cell_type": "code",
   "execution_count": 12,
   "metadata": {},
   "outputs": [],
   "source": [
    "with open('translation.pkl', 'wb') as f:\n",
    "    pickle.dump(TRANSLATION, f)"
   ]
  },
  {
   "cell_type": "code",
   "execution_count": null,
   "metadata": {},
   "outputs": [],
   "source": []
  }
 ],
 "metadata": {
  "kernelspec": {
   "display_name": "Python 3",
   "language": "python",
   "name": "python3"
  },
  "language_info": {
   "codemirror_mode": {
    "name": "ipython",
    "version": 3
   },
   "file_extension": ".py",
   "mimetype": "text/x-python",
   "name": "python",
   "nbconvert_exporter": "python",
   "pygments_lexer": "ipython3",
   "version": "3.6.6"
  }
 },
 "nbformat": 4,
 "nbformat_minor": 2
}
