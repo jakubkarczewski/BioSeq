{
 "cells": [
  {
   "cell_type": "markdown",
   "metadata": {},
   "source": [
    "Todo:\n",
    "1. przygotowac dane\n",
    "2. zrealizowac podstawowe dopasowanie sekwencji\n",
    "3.  podział zadań"
   ]
  },
  {
   "cell_type": "markdown",
   "metadata": {},
   "source": [
    "Zestawienia optymalne 2 sekwencji. Typ A. Wymagane wyznaczenie odległości edycyjnej\n",
    "i podobieństwa całych sekwencji nukleotydowych, najlepszego zestawienia lokalnego, oraz\n",
    "globalnego - wszystko w modelach bez funkcji kary za długość przerwy. Odczyt danych z\n",
    "plików (2 sekwencje i macierz podobieństwa lub dystansu 5×5 między nukleotydami),\n",
    "wyjście: optymalne zestawienie i jego ewaluacja. Na życzenie użytkownika można podać\n",
    "2\n",
    "sekwencje kodujące RNA, które są przez program automatycznie translowane zgodnie z\n",
    "kodem genetycznym na aminokwasowe, składane jako aminokwasowe (a więc przy użyciu\n",
    "macierzy 21×21), a wynik znów przedstawiamy jako dopasowanie w alfabecie RNA (a więc\n",
    "złożenie de facto kodonów sekwencji wejściowych).\n",
    "Liniowe dopasowanie dwóch sekwencji, Liniowe dopasowanie dwóch sekwencji II "
   ]
  },
  {
   "cell_type": "code",
   "execution_count": 73,
   "metadata": {},
   "outputs": [],
   "source": [
    "import os\n",
    "\n",
    "files = [f for f in os.listdir('.') if os.path.isfile(f)]\n",
    "\n",
    "seq = {}\n",
    "\n",
    "for filename in files:\n",
    "    if filename.endswith('.txt'):\n",
    "        with open(filename) as f:\n",
    "            seq[filename[:-4]] = f.read().replace('\\n', '')"
   ]
  },
  {
   "cell_type": "code",
   "execution_count": 74,
   "metadata": {},
   "outputs": [
    {
     "data": {
      "text/plain": [
       "{'seqA': 'GAACT', 'seqB': 'GAT'}"
      ]
     },
     "execution_count": 74,
     "metadata": {},
     "output_type": "execute_result"
    }
   ],
   "source": [
    "seq"
   ]
  },
  {
   "cell_type": "code",
   "execution_count": 84,
   "metadata": {},
   "outputs": [],
   "source": [
    "from Bio import Align\n",
    "\n",
    "def aligner(seq, mode=None):\n",
    "    assert len(seq.keys()) == 2, \"Only 2 sequences in dict accepted.\"\n",
    "    \n",
    "    aligner = Align.PairwiseAligner()\n",
    "    if mode in ('local', 'global'):\n",
    "        aligner.mode = mode\n",
    "        \n",
    "    alignments = aligner.align(**seq)\n",
    "    score = aligner.score(**seq)\n",
    "    \n",
    "    for alignment in alignments:\n",
    "        print(alignment)\n",
    "        \n",
    "    return score"
   ]
  },
  {
   "cell_type": "code",
   "execution_count": 85,
   "metadata": {},
   "outputs": [
    {
     "name": "stdout",
     "output_type": "stream",
     "text": [
      "GAACT\n",
      "||--|\n",
      "GA--T\n",
      "\n",
      "GAACT\n",
      "|-|-|\n",
      "G-A-T\n",
      "\n"
     ]
    },
    {
     "data": {
      "text/plain": [
       "3.0"
      ]
     },
     "execution_count": 85,
     "metadata": {},
     "output_type": "execute_result"
    }
   ],
   "source": [
    "aligner(seq)"
   ]
  },
  {
   "cell_type": "code",
   "execution_count": 81,
   "metadata": {},
   "outputs": [
    {
     "name": "stdout",
     "output_type": "stream",
     "text": [
      "GAACT\n",
      "||--|\n",
      "GA--T\n",
      "\n",
      "GAACT\n",
      "|-|-|\n",
      "G-A-T\n",
      "\n"
     ]
    },
    {
     "data": {
      "text/plain": [
       "3.0"
      ]
     },
     "execution_count": 81,
     "metadata": {},
     "output_type": "execute_result"
    }
   ],
   "source": [
    "aligner(seq, mode='local')"
   ]
  },
  {
   "cell_type": "code",
   "execution_count": 82,
   "metadata": {},
   "outputs": [
    {
     "name": "stdout",
     "output_type": "stream",
     "text": [
      "GAACT\n",
      "||--|\n",
      "GA--T\n",
      "\n",
      "GAACT\n",
      "|-|-|\n",
      "G-A-T\n",
      "\n"
     ]
    },
    {
     "data": {
      "text/plain": [
       "3.0"
      ]
     },
     "execution_count": 82,
     "metadata": {},
     "output_type": "execute_result"
    }
   ],
   "source": [
    "aligner(seq, mode='global')"
   ]
  },
  {
   "cell_type": "code",
   "execution_count": null,
   "metadata": {},
   "outputs": [],
   "source": []
  },
  {
   "cell_type": "code",
   "execution_count": null,
   "metadata": {},
   "outputs": [],
   "source": []
  }
 ],
 "metadata": {
  "kernelspec": {
   "display_name": "Python 3",
   "language": "python",
   "name": "python3"
  },
  "language_info": {
   "codemirror_mode": {
    "name": "ipython",
    "version": 3
   },
   "file_extension": ".py",
   "mimetype": "text/x-python",
   "name": "python",
   "nbconvert_exporter": "python",
   "pygments_lexer": "ipython3",
   "version": "3.6.6"
  }
 },
 "nbformat": 4,
 "nbformat_minor": 2
}
